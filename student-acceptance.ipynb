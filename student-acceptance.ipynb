{
 "cells": [
  {
   "cell_type": "code",
   "execution_count": 15,
   "metadata": {
    "_cell_guid": "b1076dfc-b9ad-4769-8c92-a6c4dae69d19",
    "_uuid": "8f2839f25d086af736a60e9eeb907d3b93b6e0e5",
    "execution": {
     "iopub.execute_input": "2022-08-20T14:49:53.966378Z",
     "iopub.status.busy": "2022-08-20T14:49:53.965597Z",
     "iopub.status.idle": "2022-08-20T14:49:53.976359Z",
     "shell.execute_reply": "2022-08-20T14:49:53.975373Z",
     "shell.execute_reply.started": "2022-08-20T14:49:53.966330Z"
    }
   },
   "outputs": [],
   "source": [
    "# This Python 3 environment comes with many helpful analytics libraries installed\n",
    "# It is defined by the kaggle/python Docker image: https://github.com/kaggle/docker-python\n",
    "# For example, here's several helpful packages to load\n",
    "\n",
    "\n",
    "# Input data files are available in the read-only \"../input/\" directory\n",
    "# For example, running this (by clicking run or pressing Shift+Enter) will list all files under the input directory\n",
    "\n",
    "import os\n",
    "for dirname, _, filenames in os.walk('/kaggle/input'):\n",
    "    for filename in filenames:\n",
    "        print(os.path.join(dirname, filename))\n",
    "\n",
    "# You can write up to 20GB to the current directory (/kaggle/working/) that gets preserved as output when you create a version using \"Save & Run All\" \n",
    "# You can also write temporary files to /kaggle/temp/, but they won't be saved outside of the current session"
   ]
  },
  {
   "cell_type": "code",
   "execution_count": 1,
   "metadata": {
    "execution": {
     "iopub.execute_input": "2022-08-20T15:37:42.464170Z",
     "iopub.status.busy": "2022-08-20T15:37:42.463680Z",
     "iopub.status.idle": "2022-08-20T15:37:42.470720Z",
     "shell.execute_reply": "2022-08-20T15:37:42.469451Z",
     "shell.execute_reply.started": "2022-08-20T15:37:42.464111Z"
    }
   },
   "outputs": [],
   "source": [
    "import numpy as np \n",
    "import pandas as pd\n",
    "import matplotlib.pyplot as plt\n",
    "\n",
    "from sklearn.model_selection import train_test_split\n",
    "from sklearn.preprocessing import LabelEncoder\n",
    "\n",
    "from sklearn.linear_model import LogisticRegression\n",
    "from sklearn.svm import SVC\n",
    "\n",
    "from sklearn.metrics import accuracy_score, auc"
   ]
  },
  {
   "cell_type": "code",
   "execution_count": 3,
   "metadata": {
    "execution": {
     "iopub.execute_input": "2022-08-20T14:49:53.990022Z",
     "iopub.status.busy": "2022-08-20T14:49:53.989506Z",
     "iopub.status.idle": "2022-08-20T14:49:54.037321Z",
     "shell.execute_reply": "2022-08-20T14:49:54.035876Z",
     "shell.execute_reply.started": "2022-08-20T14:49:53.989990Z"
    }
   },
   "outputs": [
    {
     "name": "stdout",
     "output_type": "stream",
     "text": [
      "(1000, 11)\n"
     ]
    },
    {
     "data": {
      "text/html": [
       "<div>\n",
       "<style scoped>\n",
       "    .dataframe tbody tr th:only-of-type {\n",
       "        vertical-align: middle;\n",
       "    }\n",
       "\n",
       "    .dataframe tbody tr th {\n",
       "        vertical-align: top;\n",
       "    }\n",
       "\n",
       "    .dataframe thead th {\n",
       "        text-align: right;\n",
       "    }\n",
       "</style>\n",
       "<table border=\"1\" class=\"dataframe\">\n",
       "  <thead>\n",
       "    <tr style=\"text-align: right;\">\n",
       "      <th></th>\n",
       "      <th>type_school</th>\n",
       "      <th>school_accreditation</th>\n",
       "      <th>gender</th>\n",
       "      <th>interest</th>\n",
       "      <th>residence</th>\n",
       "      <th>parent_age</th>\n",
       "      <th>parent_salary</th>\n",
       "      <th>house_area</th>\n",
       "      <th>average_grades</th>\n",
       "      <th>parent_was_in_college</th>\n",
       "      <th>in_college</th>\n",
       "    </tr>\n",
       "  </thead>\n",
       "  <tbody>\n",
       "    <tr>\n",
       "      <th>0</th>\n",
       "      <td>Academic</td>\n",
       "      <td>A</td>\n",
       "      <td>Male</td>\n",
       "      <td>Less Interested</td>\n",
       "      <td>Urban</td>\n",
       "      <td>56</td>\n",
       "      <td>6950000</td>\n",
       "      <td>83.0</td>\n",
       "      <td>84.09</td>\n",
       "      <td>False</td>\n",
       "      <td>True</td>\n",
       "    </tr>\n",
       "    <tr>\n",
       "      <th>1</th>\n",
       "      <td>Academic</td>\n",
       "      <td>A</td>\n",
       "      <td>Male</td>\n",
       "      <td>Less Interested</td>\n",
       "      <td>Urban</td>\n",
       "      <td>57</td>\n",
       "      <td>4410000</td>\n",
       "      <td>76.8</td>\n",
       "      <td>86.91</td>\n",
       "      <td>False</td>\n",
       "      <td>True</td>\n",
       "    </tr>\n",
       "    <tr>\n",
       "      <th>2</th>\n",
       "      <td>Academic</td>\n",
       "      <td>B</td>\n",
       "      <td>Female</td>\n",
       "      <td>Very Interested</td>\n",
       "      <td>Urban</td>\n",
       "      <td>50</td>\n",
       "      <td>6500000</td>\n",
       "      <td>80.6</td>\n",
       "      <td>87.43</td>\n",
       "      <td>False</td>\n",
       "      <td>True</td>\n",
       "    </tr>\n",
       "    <tr>\n",
       "      <th>3</th>\n",
       "      <td>Vocational</td>\n",
       "      <td>B</td>\n",
       "      <td>Male</td>\n",
       "      <td>Very Interested</td>\n",
       "      <td>Rural</td>\n",
       "      <td>49</td>\n",
       "      <td>6600000</td>\n",
       "      <td>78.2</td>\n",
       "      <td>82.12</td>\n",
       "      <td>True</td>\n",
       "      <td>True</td>\n",
       "    </tr>\n",
       "    <tr>\n",
       "      <th>4</th>\n",
       "      <td>Academic</td>\n",
       "      <td>A</td>\n",
       "      <td>Female</td>\n",
       "      <td>Very Interested</td>\n",
       "      <td>Urban</td>\n",
       "      <td>57</td>\n",
       "      <td>5250000</td>\n",
       "      <td>75.1</td>\n",
       "      <td>86.79</td>\n",
       "      <td>False</td>\n",
       "      <td>False</td>\n",
       "    </tr>\n",
       "  </tbody>\n",
       "</table>\n",
       "</div>"
      ],
      "text/plain": [
       "  type_school school_accreditation  gender         interest residence  \\\n",
       "0    Academic                    A    Male  Less Interested     Urban   \n",
       "1    Academic                    A    Male  Less Interested     Urban   \n",
       "2    Academic                    B  Female  Very Interested     Urban   \n",
       "3  Vocational                    B    Male  Very Interested     Rural   \n",
       "4    Academic                    A  Female  Very Interested     Urban   \n",
       "\n",
       "   parent_age  parent_salary  house_area  average_grades  \\\n",
       "0          56        6950000        83.0           84.09   \n",
       "1          57        4410000        76.8           86.91   \n",
       "2          50        6500000        80.6           87.43   \n",
       "3          49        6600000        78.2           82.12   \n",
       "4          57        5250000        75.1           86.79   \n",
       "\n",
       "   parent_was_in_college  in_college  \n",
       "0                  False        True  \n",
       "1                  False        True  \n",
       "2                  False        True  \n",
       "3                   True        True  \n",
       "4                  False       False  "
      ]
     },
     "execution_count": 3,
     "metadata": {},
     "output_type": "execute_result"
    }
   ],
   "source": [
    "data = pd.read_csv(\"../input/school-data/data.csv\")\n",
    "print(data.shape)\n",
    "data.head()"
   ]
  },
  {
   "cell_type": "markdown",
   "metadata": {},
   "source": [
    "### Data Analysis and Feature Engineering"
   ]
  },
  {
   "cell_type": "code",
   "execution_count": 4,
   "metadata": {
    "execution": {
     "iopub.execute_input": "2022-08-20T14:49:54.041648Z",
     "iopub.status.busy": "2022-08-20T14:49:54.039840Z",
     "iopub.status.idle": "2022-08-20T14:49:54.070901Z",
     "shell.execute_reply": "2022-08-20T14:49:54.069519Z",
     "shell.execute_reply.started": "2022-08-20T14:49:54.041596Z"
    }
   },
   "outputs": [
    {
     "data": {
      "text/html": [
       "<div>\n",
       "<style scoped>\n",
       "    .dataframe tbody tr th:only-of-type {\n",
       "        vertical-align: middle;\n",
       "    }\n",
       "\n",
       "    .dataframe tbody tr th {\n",
       "        vertical-align: top;\n",
       "    }\n",
       "\n",
       "    .dataframe thead th {\n",
       "        text-align: right;\n",
       "    }\n",
       "</style>\n",
       "<table border=\"1\" class=\"dataframe\">\n",
       "  <thead>\n",
       "    <tr style=\"text-align: right;\">\n",
       "      <th></th>\n",
       "      <th>0</th>\n",
       "    </tr>\n",
       "  </thead>\n",
       "  <tbody>\n",
       "    <tr>\n",
       "      <th>type_school</th>\n",
       "      <td>0</td>\n",
       "    </tr>\n",
       "    <tr>\n",
       "      <th>school_accreditation</th>\n",
       "      <td>0</td>\n",
       "    </tr>\n",
       "    <tr>\n",
       "      <th>gender</th>\n",
       "      <td>0</td>\n",
       "    </tr>\n",
       "    <tr>\n",
       "      <th>interest</th>\n",
       "      <td>0</td>\n",
       "    </tr>\n",
       "    <tr>\n",
       "      <th>residence</th>\n",
       "      <td>0</td>\n",
       "    </tr>\n",
       "    <tr>\n",
       "      <th>parent_age</th>\n",
       "      <td>0</td>\n",
       "    </tr>\n",
       "    <tr>\n",
       "      <th>parent_salary</th>\n",
       "      <td>0</td>\n",
       "    </tr>\n",
       "    <tr>\n",
       "      <th>house_area</th>\n",
       "      <td>0</td>\n",
       "    </tr>\n",
       "    <tr>\n",
       "      <th>average_grades</th>\n",
       "      <td>0</td>\n",
       "    </tr>\n",
       "    <tr>\n",
       "      <th>parent_was_in_college</th>\n",
       "      <td>0</td>\n",
       "    </tr>\n",
       "    <tr>\n",
       "      <th>in_college</th>\n",
       "      <td>0</td>\n",
       "    </tr>\n",
       "  </tbody>\n",
       "</table>\n",
       "</div>"
      ],
      "text/plain": [
       "                       0\n",
       "type_school            0\n",
       "school_accreditation   0\n",
       "gender                 0\n",
       "interest               0\n",
       "residence              0\n",
       "parent_age             0\n",
       "parent_salary          0\n",
       "house_area             0\n",
       "average_grades         0\n",
       "parent_was_in_college  0\n",
       "in_college             0"
      ]
     },
     "execution_count": 4,
     "metadata": {},
     "output_type": "execute_result"
    }
   ],
   "source": [
    "# checking for null values\n",
    "\n",
    "data.isnull().sum().to_frame()"
   ]
  },
  {
   "cell_type": "code",
   "execution_count": 5,
   "metadata": {
    "execution": {
     "iopub.execute_input": "2022-08-20T14:54:31.384363Z",
     "iopub.status.busy": "2022-08-20T14:54:31.383935Z",
     "iopub.status.idle": "2022-08-20T14:54:31.390488Z",
     "shell.execute_reply": "2022-08-20T14:54:31.389220Z",
     "shell.execute_reply.started": "2022-08-20T14:54:31.384330Z"
    }
   },
   "outputs": [],
   "source": [
    "numerical_variables = [\n",
    "    \"parent_age\", \"parent_salary\", \"house_area\", \"average_grades\"\n",
    "]\n",
    "\n",
    "categorical_variables = [\n",
    "    'type_school', 'school_accreditation', 'gender', 'interest', 'residence',\n",
    "    'parent_was_in_college'\n",
    "]"
   ]
  },
  {
   "cell_type": "code",
   "execution_count": 6,
   "metadata": {
    "execution": {
     "iopub.execute_input": "2022-08-20T14:49:54.075648Z",
     "iopub.status.busy": "2022-08-20T14:49:54.073740Z",
     "iopub.status.idle": "2022-08-20T14:49:54.095362Z",
     "shell.execute_reply": "2022-08-20T14:49:54.093794Z",
     "shell.execute_reply.started": "2022-08-20T14:49:54.075596Z"
    }
   },
   "outputs": [
    {
     "data": {
      "text/plain": [
       "True     500\n",
       "False    500\n",
       "Name: in_college, dtype: int64"
      ]
     },
     "execution_count": 6,
     "metadata": {},
     "output_type": "execute_result"
    }
   ],
   "source": [
    "# checking whether data is imabalanced \n",
    "data.in_college.value_counts()"
   ]
  },
  {
   "cell_type": "markdown",
   "metadata": {},
   "source": [
    "### Checking for Outliers"
   ]
  },
  {
   "cell_type": "code",
   "execution_count": 7,
   "metadata": {
    "execution": {
     "iopub.execute_input": "2022-08-20T14:49:54.100282Z",
     "iopub.status.busy": "2022-08-20T14:49:54.098285Z",
     "iopub.status.idle": "2022-08-20T14:49:54.268242Z",
     "shell.execute_reply": "2022-08-20T14:49:54.267199Z",
     "shell.execute_reply.started": "2022-08-20T14:49:54.100225Z"
    }
   },
   "outputs": [
    {
     "data": {
      "text/plain": [
       "<AxesSubplot:>"
      ]
     },
     "execution_count": 7,
     "metadata": {},
     "output_type": "execute_result"
    },
    {
     "data": {
      "image/png": "[encoded data removed]",
      "text/plain": [
       "<Figure size 432x288 with 1 Axes>"
      ]
     },
     "metadata": {
      "needs_background": "light"
     },
     "output_type": "display_data"
    }
   ],
   "source": [
    "data.boxplot(\"parent_age\",figsize=(5,5))"
   ]
  },
  {
   "cell_type": "code",
   "execution_count": 8,
   "metadata": {
    "execution": {
     "iopub.execute_input": "2022-08-20T14:49:54.270837Z",
     "iopub.status.busy": "2022-08-20T14:49:54.270035Z",
     "iopub.status.idle": "2022-08-20T14:49:54.466821Z",
     "shell.execute_reply": "2022-08-20T14:49:54.465551Z",
     "shell.execute_reply.started": "2022-08-20T14:49:54.270800Z"
    }
   },
   "outputs": [
    {
     "data": {
      "text/plain": [
       "<AxesSubplot:>"
      ]
     },
     "execution_count": 8,
     "metadata": {},
     "output_type": "execute_result"
    },
    {
     "data": {
      "image/png": "[encoded data removed]",
      "text/plain": [
       "<Figure size 500x500 with 1 Axes>"
      ]
     },
     "metadata": {},
     "output_type": "display_data"
    }
   ],
   "source": [
    "data.boxplot(\"parent_salary\",figsize=(5,5))"
   ]
  },
  {
   "cell_type": "code",
   "execution_count": 9,
   "metadata": {
    "execution": {
     "iopub.execute_input": "2022-08-20T14:49:54.476487Z",
     "iopub.status.busy": "2022-08-20T14:49:54.473076Z",
     "iopub.status.idle": "2022-08-20T14:49:54.653924Z",
     "shell.execute_reply": "2022-08-20T14:49:54.652704Z",
     "shell.execute_reply.started": "2022-08-20T14:49:54.476420Z"
    }
   },
   "outputs": [
    {
     "data": {
      "text/plain": [
       "<AxesSubplot:>"
      ]
     },
     "execution_count": 9,
     "metadata": {},
     "output_type": "execute_result"
    },
    {
     "data": {
      "image/png": "[encoded data removed]",
      "text/plain": [
       "<Figure size 500x500 with 1 Axes>"
      ]
     },
     "metadata": {},
     "output_type": "display_data"
    }
   ],
   "source": [
    "data.boxplot(\"house_area\",figsize=(5,5))"
   ]
  },
  {
   "cell_type": "code",
   "execution_count": 10,
   "metadata": {
    "execution": {
     "iopub.execute_input": "2022-08-20T14:49:54.655981Z",
     "iopub.status.busy": "2022-08-20T14:49:54.655490Z",
     "iopub.status.idle": "2022-08-20T14:49:54.820799Z",
     "shell.execute_reply": "2022-08-20T14:49:54.819504Z",
     "shell.execute_reply.started": "2022-08-20T14:49:54.655947Z"
    }
   },
   "outputs": [
    {
     "data": {
      "text/plain": [
       "<AxesSubplot:>"
      ]
     },
     "execution_count": 10,
     "metadata": {},
     "output_type": "execute_result"
    },
    {
     "data": {
      "image/png": "[encoded data removed]",
      "text/plain": [
       "<Figure size 500x500 with 1 Axes>"
      ]
     },
     "metadata": {},
     "output_type": "display_data"
    }
   ],
   "source": [
    "data.boxplot(\"average_grades\",figsize=(5,5))"
   ]
  },
  {
   "cell_type": "markdown",
   "metadata": {},
   "source": [
    "### Outliers are present, So writing a function to find and remove it using IQR"
   ]
  },
  {
   "cell_type": "code",
   "execution_count": 11,
   "metadata": {
    "execution": {
     "iopub.execute_input": "2022-08-20T14:53:50.780196Z",
     "iopub.status.busy": "2022-08-20T14:53:50.779337Z",
     "iopub.status.idle": "2022-08-20T14:53:50.786224Z",
     "shell.execute_reply": "2022-08-20T14:53:50.784948Z",
     "shell.execute_reply.started": "2022-08-20T14:53:50.780156Z"
    }
   },
   "outputs": [],
   "source": [
    "def iqr_outliers(col):\n",
    "    \n",
    "    q1 = data[col].quantile(0.25)\n",
    "    q3 = data[col].quantile(0.75)\n",
    "    iqr = q3 - q1\n",
    "    \n",
    "    lower_band = q1 - 1.5*iqr\n",
    "    upper_band = q3 + 1.5*iqr\n",
    "    \n",
    "    return lower_band, upper_band\n"
   ]
  },
  {
   "cell_type": "code",
   "execution_count": 12,
   "metadata": {
    "execution": {
     "iopub.execute_input": "2022-08-20T15:24:28.602826Z",
     "iopub.status.busy": "2022-08-20T15:24:28.602396Z",
     "iopub.status.idle": "2022-08-20T15:24:28.621468Z",
     "shell.execute_reply": "2022-08-20T15:24:28.620423Z",
     "shell.execute_reply.started": "2022-08-20T15:24:28.602792Z"
    }
   },
   "outputs": [
    {
     "name": "stdout",
     "output_type": "stream",
     "text": [
      "Lower_band & Upper_band values of Numerical Variables \n",
      " __________________________________________________________ \n",
      "\n",
      "parent_age :   (44.0, 60.0)\n",
      " \n",
      "parent_salary :   (1326250.0, 9416250.0)\n",
      " \n",
      "house_area :   (34.26249999999998, 115.16250000000002)\n",
      " \n",
      "average_grades :   (76.94999999999999, 95.05000000000001)\n",
      " \n",
      "CPU times: user 27.7 ms, sys: 1.18 ms, total: 28.8 ms\n",
      "Wall time: 28.7 ms\n"
     ]
    }
   ],
   "source": [
    "\n",
    "%%time\n",
    "# Lower_band & Upper_band values of Numerical Variables\n",
    "\n",
    "print(\"Lower_band & Upper_band values of Numerical Variables \\n __________________________________________________________ \\n\")\n",
    "\n",
    "for i in numerical_variables:\n",
    "    \n",
    "    print(i, \":  \", iqr_outliers(i))\n",
    "    print(\" \")"
   ]
  },
  {
   "cell_type": "code",
   "execution_count": 13,
   "metadata": {
    "execution": {
     "iopub.execute_input": "2022-08-20T15:01:48.739586Z",
     "iopub.status.busy": "2022-08-20T15:01:48.739173Z",
     "iopub.status.idle": "2022-08-20T15:01:48.769456Z",
     "shell.execute_reply": "2022-08-20T15:01:48.768052Z",
     "shell.execute_reply.started": "2022-08-20T15:01:48.739552Z"
    }
   },
   "outputs": [
    {
     "data": {
      "text/html": [
       "<div>\n",
       "<style scoped>\n",
       "    .dataframe tbody tr th:only-of-type {\n",
       "        vertical-align: middle;\n",
       "    }\n",
       "\n",
       "    .dataframe tbody tr th {\n",
       "        vertical-align: top;\n",
       "    }\n",
       "\n",
       "    .dataframe thead th {\n",
       "        text-align: right;\n",
       "    }\n",
       "</style>\n",
       "<table border=\"1\" class=\"dataframe\">\n",
       "  <thead>\n",
       "    <tr style=\"text-align: right;\">\n",
       "      <th></th>\n",
       "      <th>parent_age</th>\n",
       "      <th>parent_salary</th>\n",
       "      <th>house_area</th>\n",
       "      <th>average_grades</th>\n",
       "    </tr>\n",
       "  </thead>\n",
       "  <tbody>\n",
       "    <tr>\n",
       "      <th>count</th>\n",
       "      <td>1000.000000</td>\n",
       "      <td>1.000000e+03</td>\n",
       "      <td>1000.000000</td>\n",
       "      <td>1000.000000</td>\n",
       "    </tr>\n",
       "    <tr>\n",
       "      <th>mean</th>\n",
       "      <td>52.208000</td>\n",
       "      <td>5.381570e+06</td>\n",
       "      <td>74.515300</td>\n",
       "      <td>86.097200</td>\n",
       "    </tr>\n",
       "    <tr>\n",
       "      <th>std</th>\n",
       "      <td>3.500427</td>\n",
       "      <td>1.397546e+06</td>\n",
       "      <td>15.293346</td>\n",
       "      <td>3.378738</td>\n",
       "    </tr>\n",
       "    <tr>\n",
       "      <th>min</th>\n",
       "      <td>40.000000</td>\n",
       "      <td>1.000000e+06</td>\n",
       "      <td>20.000000</td>\n",
       "      <td>75.000000</td>\n",
       "    </tr>\n",
       "    <tr>\n",
       "      <th>25%</th>\n",
       "      <td>50.000000</td>\n",
       "      <td>4.360000e+06</td>\n",
       "      <td>64.600000</td>\n",
       "      <td>83.737500</td>\n",
       "    </tr>\n",
       "    <tr>\n",
       "      <th>50%</th>\n",
       "      <td>52.000000</td>\n",
       "      <td>5.440000e+06</td>\n",
       "      <td>75.500000</td>\n",
       "      <td>85.575000</td>\n",
       "    </tr>\n",
       "    <tr>\n",
       "      <th>75%</th>\n",
       "      <td>54.000000</td>\n",
       "      <td>6.382500e+06</td>\n",
       "      <td>84.825000</td>\n",
       "      <td>88.262500</td>\n",
       "    </tr>\n",
       "    <tr>\n",
       "      <th>max</th>\n",
       "      <td>65.000000</td>\n",
       "      <td>1.000000e+07</td>\n",
       "      <td>120.000000</td>\n",
       "      <td>98.000000</td>\n",
       "    </tr>\n",
       "  </tbody>\n",
       "</table>\n",
       "</div>"
      ],
      "text/plain": [
       "        parent_age  parent_salary   house_area  average_grades\n",
       "count  1000.000000   1.000000e+03  1000.000000     1000.000000\n",
       "mean     52.208000   5.381570e+06    74.515300       86.097200\n",
       "std       3.500427   1.397546e+06    15.293346        3.378738\n",
       "min      40.000000   1.000000e+06    20.000000       75.000000\n",
       "25%      50.000000   4.360000e+06    64.600000       83.737500\n",
       "50%      52.000000   5.440000e+06    75.500000       85.575000\n",
       "75%      54.000000   6.382500e+06    84.825000       88.262500\n",
       "max      65.000000   1.000000e+07   120.000000       98.000000"
      ]
     },
     "execution_count": 13,
     "metadata": {},
     "output_type": "execute_result"
    }
   ],
   "source": [
    "data.describe()"
   ]
  },
  {
   "cell_type": "code",
   "execution_count": 14,
   "metadata": {
    "execution": {
     "iopub.execute_input": "2022-08-20T14:49:54.845872Z",
     "iopub.status.busy": "2022-08-20T14:49:54.845309Z",
     "iopub.status.idle": "2022-08-20T14:49:54.866417Z",
     "shell.execute_reply": "2022-08-20T14:49:54.865174Z",
     "shell.execute_reply.started": "2022-08-20T14:49:54.845830Z"
    }
   },
   "outputs": [
    {
     "name": "stdout",
     "output_type": "stream",
     "text": [
      "type_school :  \n",
      " \n",
      " Academic      609\n",
      "Vocational    391\n",
      "Name: type_school, dtype: int64 \n",
      " ================================\n",
      "school_accreditation :  \n",
      " \n",
      " B    519\n",
      "A    481\n",
      "Name: school_accreditation, dtype: int64 \n",
      " ================================\n",
      "gender :  \n",
      " \n",
      " Male      515\n",
      "Female    485\n",
      "Name: gender, dtype: int64 \n",
      " ================================\n",
      "interest :  \n",
      " \n",
      " Very Interested     324\n",
      "Uncertain           261\n",
      "Less Interested     229\n",
      "Quiet Interested    100\n",
      "Not Interested       86\n",
      "Name: interest, dtype: int64 \n",
      " ================================\n",
      "residence :  \n",
      " \n",
      " Urban    539\n",
      "Rural    461\n",
      "Name: residence, dtype: int64 \n",
      " ================================\n",
      "parent_was_in_college :  \n",
      " \n",
      " True     520\n",
      "False    480\n",
      "Name: parent_was_in_college, dtype: int64 \n",
      " ================================\n"
     ]
    }
   ],
   "source": [
    "# checking for unique categories in categorical variables\n",
    "\n",
    "for col in categorical_variables:\n",
    "    print(col, \": \", \"\\n \\n\",data[col].value_counts(), \"\\n\", \"================================\")"
   ]
  },
  {
   "cell_type": "code",
   "execution_count": 15,
   "metadata": {
    "execution": {
     "iopub.execute_input": "2022-08-20T14:49:54.868861Z",
     "iopub.status.busy": "2022-08-20T14:49:54.868423Z",
     "iopub.status.idle": "2022-08-20T14:49:54.884471Z",
     "shell.execute_reply": "2022-08-20T14:49:54.883372Z",
     "shell.execute_reply.started": "2022-08-20T14:49:54.868822Z"
    }
   },
   "outputs": [
    {
     "data": {
      "text/plain": [
       "True     500\n",
       "False    500\n",
       "Name: in_college, dtype: int64"
      ]
     },
     "execution_count": 15,
     "metadata": {},
     "output_type": "execute_result"
    }
   ],
   "source": [
    "# checking whether data is imbalanced \n",
    "\n",
    "data.in_college.value_counts()"
   ]
  },
  {
   "cell_type": "code",
   "execution_count": 16,
   "metadata": {
    "execution": {
     "iopub.execute_input": "2022-08-20T15:44:29.383289Z",
     "iopub.status.busy": "2022-08-20T15:44:29.382891Z",
     "iopub.status.idle": "2022-08-20T15:44:29.388868Z",
     "shell.execute_reply": "2022-08-20T15:44:29.387971Z",
     "shell.execute_reply.started": "2022-08-20T15:44:29.383256Z"
    }
   },
   "outputs": [],
   "source": [
    "X = data.iloc[:, :-1]\n",
    "y = data.iloc[:, -1]"
   ]
  },
  {
   "cell_type": "code",
   "execution_count": 17,
   "metadata": {
    "execution": {
     "iopub.execute_input": "2022-08-20T15:44:29.723916Z",
     "iopub.status.busy": "2022-08-20T15:44:29.723285Z",
     "iopub.status.idle": "2022-08-20T15:44:29.739814Z",
     "shell.execute_reply": "2022-08-20T15:44:29.738546Z",
     "shell.execute_reply.started": "2022-08-20T15:44:29.723881Z"
    }
   },
   "outputs": [
    {
     "data": {
      "text/html": [
       "<div>\n",
       "<style scoped>\n",
       "    .dataframe tbody tr th:only-of-type {\n",
       "        vertical-align: middle;\n",
       "    }\n",
       "\n",
       "    .dataframe tbody tr th {\n",
       "        vertical-align: top;\n",
       "    }\n",
       "\n",
       "    .dataframe thead th {\n",
       "        text-align: right;\n",
       "    }\n",
       "</style>\n",
       "<table border=\"1\" class=\"dataframe\">\n",
       "  <thead>\n",
       "    <tr style=\"text-align: right;\">\n",
       "      <th></th>\n",
       "      <th>type_school</th>\n",
       "      <th>school_accreditation</th>\n",
       "      <th>gender</th>\n",
       "      <th>interest</th>\n",
       "      <th>residence</th>\n",
       "      <th>parent_age</th>\n",
       "      <th>parent_salary</th>\n",
       "      <th>house_area</th>\n",
       "      <th>average_grades</th>\n",
       "      <th>parent_was_in_college</th>\n",
       "    </tr>\n",
       "  </thead>\n",
       "  <tbody>\n",
       "    <tr>\n",
       "      <th>0</th>\n",
       "      <td>Academic</td>\n",
       "      <td>A</td>\n",
       "      <td>Male</td>\n",
       "      <td>Less Interested</td>\n",
       "      <td>Urban</td>\n",
       "      <td>56</td>\n",
       "      <td>6950000</td>\n",
       "      <td>83.0</td>\n",
       "      <td>84.09</td>\n",
       "      <td>False</td>\n",
       "    </tr>\n",
       "    <tr>\n",
       "      <th>1</th>\n",
       "      <td>Academic</td>\n",
       "      <td>A</td>\n",
       "      <td>Male</td>\n",
       "      <td>Less Interested</td>\n",
       "      <td>Urban</td>\n",
       "      <td>57</td>\n",
       "      <td>4410000</td>\n",
       "      <td>76.8</td>\n",
       "      <td>86.91</td>\n",
       "      <td>False</td>\n",
       "    </tr>\n",
       "    <tr>\n",
       "      <th>2</th>\n",
       "      <td>Academic</td>\n",
       "      <td>B</td>\n",
       "      <td>Female</td>\n",
       "      <td>Very Interested</td>\n",
       "      <td>Urban</td>\n",
       "      <td>50</td>\n",
       "      <td>6500000</td>\n",
       "      <td>80.6</td>\n",
       "      <td>87.43</td>\n",
       "      <td>False</td>\n",
       "    </tr>\n",
       "    <tr>\n",
       "      <th>3</th>\n",
       "      <td>Vocational</td>\n",
       "      <td>B</td>\n",
       "      <td>Male</td>\n",
       "      <td>Very Interested</td>\n",
       "      <td>Rural</td>\n",
       "      <td>49</td>\n",
       "      <td>6600000</td>\n",
       "      <td>78.2</td>\n",
       "      <td>82.12</td>\n",
       "      <td>True</td>\n",
       "    </tr>\n",
       "    <tr>\n",
       "      <th>4</th>\n",
       "      <td>Academic</td>\n",
       "      <td>A</td>\n",
       "      <td>Female</td>\n",
       "      <td>Very Interested</td>\n",
       "      <td>Urban</td>\n",
       "      <td>57</td>\n",
       "      <td>5250000</td>\n",
       "      <td>75.1</td>\n",
       "      <td>86.79</td>\n",
       "      <td>False</td>\n",
       "    </tr>\n",
       "  </tbody>\n",
       "</table>\n",
       "</div>"
      ],
      "text/plain": [
       "  type_school school_accreditation  gender         interest residence  \\\n",
       "0    Academic                    A    Male  Less Interested     Urban   \n",
       "1    Academic                    A    Male  Less Interested     Urban   \n",
       "2    Academic                    B  Female  Very Interested     Urban   \n",
       "3  Vocational                    B    Male  Very Interested     Rural   \n",
       "4    Academic                    A  Female  Very Interested     Urban   \n",
       "\n",
       "   parent_age  parent_salary  house_area  average_grades  \\\n",
       "0          56        6950000        83.0           84.09   \n",
       "1          57        4410000        76.8           86.91   \n",
       "2          50        6500000        80.6           87.43   \n",
       "3          49        6600000        78.2           82.12   \n",
       "4          57        5250000        75.1           86.79   \n",
       "\n",
       "   parent_was_in_college  \n",
       "0                  False  \n",
       "1                  False  \n",
       "2                  False  \n",
       "3                   True  \n",
       "4                  False  "
      ]
     },
     "execution_count": 17,
     "metadata": {},
     "output_type": "execute_result"
    }
   ],
   "source": [
    "X.head()"
   ]
  },
  {
   "cell_type": "code",
   "execution_count": 18,
   "metadata": {
    "execution": {
     "iopub.execute_input": "2022-08-20T15:44:30.053290Z",
     "iopub.status.busy": "2022-08-20T15:44:30.052820Z",
     "iopub.status.idle": "2022-08-20T15:44:30.074461Z",
     "shell.execute_reply": "2022-08-20T15:44:30.073176Z",
     "shell.execute_reply.started": "2022-08-20T15:44:30.053254Z"
    }
   },
   "outputs": [
    {
     "name": "stdout",
     "output_type": "stream",
     "text": [
      "CPU times: user 10.7 ms, sys: 0 ns, total: 10.7 ms\n",
      "Wall time: 9.38 ms\n"
     ]
    },
    {
     "data": {
      "text/html": [
       "<div>\n",
       "<style scoped>\n",
       "    .dataframe tbody tr th:only-of-type {\n",
       "        vertical-align: middle;\n",
       "    }\n",
       "\n",
       "    .dataframe tbody tr th {\n",
       "        vertical-align: top;\n",
       "    }\n",
       "\n",
       "    .dataframe thead th {\n",
       "        text-align: right;\n",
       "    }\n",
       "</style>\n",
       "<table border=\"1\" class=\"dataframe\">\n",
       "  <thead>\n",
       "    <tr style=\"text-align: right;\">\n",
       "      <th></th>\n",
       "      <th>type_school</th>\n",
       "      <th>school_accreditation</th>\n",
       "      <th>gender</th>\n",
       "      <th>interest</th>\n",
       "      <th>residence</th>\n",
       "      <th>parent_age</th>\n",
       "      <th>parent_salary</th>\n",
       "      <th>house_area</th>\n",
       "      <th>average_grades</th>\n",
       "      <th>parent_was_in_college</th>\n",
       "    </tr>\n",
       "  </thead>\n",
       "  <tbody>\n",
       "    <tr>\n",
       "      <th>0</th>\n",
       "      <td>0</td>\n",
       "      <td>0</td>\n",
       "      <td>1</td>\n",
       "      <td>0</td>\n",
       "      <td>1</td>\n",
       "      <td>56</td>\n",
       "      <td>6950000</td>\n",
       "      <td>83.0</td>\n",
       "      <td>84.09</td>\n",
       "      <td>0</td>\n",
       "    </tr>\n",
       "    <tr>\n",
       "      <th>1</th>\n",
       "      <td>0</td>\n",
       "      <td>0</td>\n",
       "      <td>1</td>\n",
       "      <td>0</td>\n",
       "      <td>1</td>\n",
       "      <td>57</td>\n",
       "      <td>4410000</td>\n",
       "      <td>76.8</td>\n",
       "      <td>86.91</td>\n",
       "      <td>0</td>\n",
       "    </tr>\n",
       "    <tr>\n",
       "      <th>2</th>\n",
       "      <td>0</td>\n",
       "      <td>1</td>\n",
       "      <td>0</td>\n",
       "      <td>4</td>\n",
       "      <td>1</td>\n",
       "      <td>50</td>\n",
       "      <td>6500000</td>\n",
       "      <td>80.6</td>\n",
       "      <td>87.43</td>\n",
       "      <td>0</td>\n",
       "    </tr>\n",
       "    <tr>\n",
       "      <th>3</th>\n",
       "      <td>1</td>\n",
       "      <td>1</td>\n",
       "      <td>1</td>\n",
       "      <td>4</td>\n",
       "      <td>0</td>\n",
       "      <td>49</td>\n",
       "      <td>6600000</td>\n",
       "      <td>78.2</td>\n",
       "      <td>82.12</td>\n",
       "      <td>1</td>\n",
       "    </tr>\n",
       "    <tr>\n",
       "      <th>4</th>\n",
       "      <td>0</td>\n",
       "      <td>0</td>\n",
       "      <td>0</td>\n",
       "      <td>4</td>\n",
       "      <td>1</td>\n",
       "      <td>57</td>\n",
       "      <td>5250000</td>\n",
       "      <td>75.1</td>\n",
       "      <td>86.79</td>\n",
       "      <td>0</td>\n",
       "    </tr>\n",
       "  </tbody>\n",
       "</table>\n",
       "</div>"
      ],
      "text/plain": [
       "   type_school  school_accreditation  gender  interest  residence  parent_age  \\\n",
       "0            0                     0       1         0          1          56   \n",
       "1            0                     0       1         0          1          57   \n",
       "2            0                     1       0         4          1          50   \n",
       "3            1                     1       1         4          0          49   \n",
       "4            0                     0       0         4          1          57   \n",
       "\n",
       "   parent_salary  house_area  average_grades  parent_was_in_college  \n",
       "0        6950000        83.0           84.09                      0  \n",
       "1        4410000        76.8           86.91                      0  \n",
       "2        6500000        80.6           87.43                      0  \n",
       "3        6600000        78.2           82.12                      1  \n",
       "4        5250000        75.1           86.79                      0  "
      ]
     },
     "execution_count": 18,
     "metadata": {},
     "output_type": "execute_result"
    }
   ],
   "source": [
    "%%time\n",
    "# Applying Label Encoder to categorical data\n",
    "\n",
    "encoder = LabelEncoder()\n",
    "\n",
    "for col in categorical_variables:\n",
    "    \n",
    "    X[col] = encoder.fit_transform(X[col])\n",
    "\n",
    "X.head()"
   ]
  },
  {
   "cell_type": "code",
   "execution_count": 19,
   "metadata": {
    "execution": {
     "iopub.execute_input": "2022-08-20T15:44:32.864007Z",
     "iopub.status.busy": "2022-08-20T15:44:32.862870Z",
     "iopub.status.idle": "2022-08-20T15:44:32.872643Z",
     "shell.execute_reply": "2022-08-20T15:44:32.871243Z",
     "shell.execute_reply.started": "2022-08-20T15:44:32.863959Z"
    }
   },
   "outputs": [],
   "source": [
    "X_train, X_test, y_train, y_test = train_test_split(X, y, test_size=0.2, random_state=1)"
   ]
  },
  {
   "cell_type": "markdown",
   "metadata": {},
   "source": [
    "### Building machine learning model"
   ]
  },
  {
   "cell_type": "code",
   "execution_count": 20,
   "metadata": {
    "execution": {
     "iopub.execute_input": "2022-08-20T15:47:05.827914Z",
     "iopub.status.busy": "2022-08-20T15:47:05.827489Z",
     "iopub.status.idle": "2022-08-20T15:47:05.884366Z",
     "shell.execute_reply": "2022-08-20T15:47:05.883101Z",
     "shell.execute_reply.started": "2022-08-20T15:47:05.827880Z"
    }
   },
   "outputs": [
    {
     "name": "stdout",
     "output_type": "stream",
     "text": [
      "Logistic Regression \n",
      " ==================== \n",
      "\n",
      " Accuracy of Logistic Regression is 0.475 \n",
      " Accuracy of Logistic Regression is 59.5 \n",
      " \n",
      "Support Vector Machine \n",
      " ==================== \n",
      "\n",
      " Accuracy of Support Vector Machine is 0.65 \n",
      " Accuracy of Support Vector Machine is 50.0 \n",
      " \n"
     ]
    }
   ],
   "source": [
    "log_reg = LogisticRegression()\n",
    "svm = SVC()\n",
    "\n",
    "models = {\"Logistic Regression\":log_reg, \"Support Vector Machine\":svm}\n",
    "\n",
    "\n",
    "for model_name,model in models.items():\n",
    "    \n",
    "    \n",
    "    print(model_name, \"\\n ==================== \\n\")\n",
    "    \n",
    "    model.fit(X_train, y_train)\n",
    "    y_pred = model.predict(X_test)\n",
    "    \n",
    "    accuracy = accuracy_score(y_test, y_pred)\n",
    "    auc_score = auc(y_test, y_pred)\n",
    "    \n",
    "    print(\n",
    "        \" Accuracy of {} is {}\".format(model_name, accuracy), \"\\n\", \"Accuracy of {} is {}\".format(model_name, auc_score), \"\\n \"\n",
    "    )"
   ]
  },
  {
   "cell_type": "markdown",
   "metadata": {},
   "source": [
    "## The Results are:\n",
    "\n",
    " **(1) Logistic Regression:**\n",
    "\n",
    "  - Accuracy of Logistic Regression is 0.475 \n",
    "  - Accuracy of Logistic Regression is 59.5 \n",
    " \n",
    " \n",
    " **(2) Support Vector Machine**\n",
    "  \n",
    "\n",
    "  - Accuracy of Support Vector Machine is 0.65 \n",
    "  - Accuracy of Support Vector Machine is 50.0 \n",
    " \n",
    " \n",
    " #### **Notes:**\n",
    " \n",
    "  - Here I have not removed the outliers(Need to remove it and train again)\n",
    "  - Used Label Encoder to handle categorical data(Can use better encoding techniques)\n",
    "  - Used simple classifiers - Logistic Regression and Support Vector Machine"
   ]
  }
 ],
 "metadata": {
  "kernelspec": {
   "display_name": "Python 3 (ipykernel)",
   "language": "python",
   "name": "python3"
  },
  "language_info": {
   "codemirror_mode": {
    "name": "ipython",
    "version": 3
   },
   "file_extension": ".py",
   "mimetype": "text/x-python",
   "name": "python",
   "nbconvert_exporter": "python",
   "pygments_lexer": "ipython3",
   "version": "3.8.10"
  }
 },
 "nbformat": 4,
 "nbformat_minor": 4
}
